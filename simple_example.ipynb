{
 "cells": [
  {
   "cell_type": "code",
   "execution_count": 2,
   "metadata": {},
   "outputs": [],
   "source": [
    "from pyomo.environ import ConcreteModel, Var, Objective, Constraint, NonNegativeReals, Suffix\n",
    "from pyomo.opt import SolverFactory\n",
    "import pandas as pd"
   ]
  },
  {
   "cell_type": "markdown",
   "metadata": {},
   "source": [
    "# 1. read all input data from files\n",
    "\n",
    "relevant tsv-files are:\n",
    "- load\n",
    "- duration\n",
    "- availability\n",
    "- tech_data"
   ]
  },
  {
   "cell_type": "code",
   "execution_count": 3,
   "metadata": {},
   "outputs": [
    {
     "data": {
      "text/html": [
       "<div>\n",
       "<style scoped>\n",
       "    .dataframe tbody tr th:only-of-type {\n",
       "        vertical-align: middle;\n",
       "    }\n",
       "\n",
       "    .dataframe tbody tr th {\n",
       "        vertical-align: top;\n",
       "    }\n",
       "\n",
       "    .dataframe thead th {\n",
       "        text-align: right;\n",
       "    }\n",
       "</style>\n",
       "<table border=\"1\" class=\"dataframe\">\n",
       "  <thead>\n",
       "    <tr style=\"text-align: right;\">\n",
       "      <th></th>\n",
       "      <th>time</th>\n",
       "      <th>value</th>\n",
       "    </tr>\n",
       "  </thead>\n",
       "  <tbody>\n",
       "    <tr>\n",
       "      <th>0</th>\n",
       "      <td>t1</td>\n",
       "      <td>82115</td>\n",
       "    </tr>\n",
       "    <tr>\n",
       "      <th>1</th>\n",
       "      <td>t2</td>\n",
       "      <td>73169</td>\n",
       "    </tr>\n",
       "    <tr>\n",
       "      <th>2</th>\n",
       "      <td>t3</td>\n",
       "      <td>68729</td>\n",
       "    </tr>\n",
       "    <tr>\n",
       "      <th>3</th>\n",
       "      <td>t4</td>\n",
       "      <td>63442</td>\n",
       "    </tr>\n",
       "    <tr>\n",
       "      <th>4</th>\n",
       "      <td>t5</td>\n",
       "      <td>60430</td>\n",
       "    </tr>\n",
       "    <tr>\n",
       "      <th>5</th>\n",
       "      <td>t6</td>\n",
       "      <td>57013</td>\n",
       "    </tr>\n",
       "    <tr>\n",
       "      <th>6</th>\n",
       "      <td>t7</td>\n",
       "      <td>52048</td>\n",
       "    </tr>\n",
       "    <tr>\n",
       "      <th>7</th>\n",
       "      <td>t8</td>\n",
       "      <td>48701</td>\n",
       "    </tr>\n",
       "    <tr>\n",
       "      <th>8</th>\n",
       "      <td>t9</td>\n",
       "      <td>43981</td>\n",
       "    </tr>\n",
       "    <tr>\n",
       "      <th>9</th>\n",
       "      <td>t10</td>\n",
       "      <td>40498</td>\n",
       "    </tr>\n",
       "  </tbody>\n",
       "</table>\n",
       "</div>"
      ],
      "text/plain": [
       "  time  value\n",
       "0   t1  82115\n",
       "1   t2  73169\n",
       "2   t3  68729\n",
       "3   t4  63442\n",
       "4   t5  60430\n",
       "5   t6  57013\n",
       "6   t7  52048\n",
       "7   t8  48701\n",
       "8   t9  43981\n",
       "9  t10  40498"
      ]
     },
     "execution_count": 3,
     "metadata": {},
     "output_type": "execute_result"
    }
   ],
   "source": [
    "load = pd.read_csv(\"load.tsv\",  sep=\"\\s+\", names=[\"time\", \"value\"] )\n",
    "load"
   ]
  },
  {
   "cell_type": "code",
   "execution_count": 4,
   "metadata": {},
   "outputs": [
    {
     "data": {
      "text/html": [
       "<div>\n",
       "<style scoped>\n",
       "    .dataframe tbody tr th:only-of-type {\n",
       "        vertical-align: middle;\n",
       "    }\n",
       "\n",
       "    .dataframe tbody tr th {\n",
       "        vertical-align: top;\n",
       "    }\n",
       "\n",
       "    .dataframe thead th {\n",
       "        text-align: right;\n",
       "    }\n",
       "</style>\n",
       "<table border=\"1\" class=\"dataframe\">\n",
       "  <thead>\n",
       "    <tr style=\"text-align: right;\">\n",
       "      <th></th>\n",
       "      <th>Cap</th>\n",
       "      <th>ETA_EL</th>\n",
       "      <th>Fuel_P</th>\n",
       "      <th>c_var_other</th>\n",
       "      <th>EMF</th>\n",
       "    </tr>\n",
       "    <tr>\n",
       "      <th>tech</th>\n",
       "      <th></th>\n",
       "      <th></th>\n",
       "      <th></th>\n",
       "      <th></th>\n",
       "      <th></th>\n",
       "    </tr>\n",
       "  </thead>\n",
       "  <tbody>\n",
       "    <tr>\n",
       "      <th>*Units</th>\n",
       "      <td>MW</td>\n",
       "      <td>-</td>\n",
       "      <td>Euro/MWhtherm</td>\n",
       "      <td>Euro/Mwhel</td>\n",
       "      <td>t</td>\n",
       "    </tr>\n",
       "    <tr>\n",
       "      <th>CCGT</th>\n",
       "      <td>29555</td>\n",
       "      <td>0.54</td>\n",
       "      <td>12.8</td>\n",
       "      <td>1.5</td>\n",
       "      <td>0.2048</td>\n",
       "    </tr>\n",
       "    <tr>\n",
       "      <th>GT_GasOil</th>\n",
       "      <td>4400</td>\n",
       "      <td>0.28</td>\n",
       "      <td>12.8</td>\n",
       "      <td>1.5</td>\n",
       "      <td>0.2048</td>\n",
       "    </tr>\n",
       "    <tr>\n",
       "      <th>Hydro</th>\n",
       "      <td>5256</td>\n",
       "      <td>1.00</td>\n",
       "      <td>0.0</td>\n",
       "      <td>1.5</td>\n",
       "      <td>0.0000</td>\n",
       "    </tr>\n",
       "    <tr>\n",
       "      <th>Coal</th>\n",
       "      <td>22458</td>\n",
       "      <td>0.42</td>\n",
       "      <td>7.4</td>\n",
       "      <td>2.6</td>\n",
       "      <td>0.3420</td>\n",
       "    </tr>\n",
       "    <tr>\n",
       "      <th>Lignite</th>\n",
       "      <td>21067</td>\n",
       "      <td>0.37</td>\n",
       "      <td>3.4</td>\n",
       "      <td>3.0</td>\n",
       "      <td>0.3996</td>\n",
       "    </tr>\n",
       "    <tr>\n",
       "      <th>Nuclear</th>\n",
       "      <td>8114</td>\n",
       "      <td>0.33</td>\n",
       "      <td>1.8</td>\n",
       "      <td>0.7</td>\n",
       "      <td>0.0000</td>\n",
       "    </tr>\n",
       "    <tr>\n",
       "      <th>Wind</th>\n",
       "      <td>61114</td>\n",
       "      <td>1.00</td>\n",
       "      <td>0.0</td>\n",
       "      <td>1.4</td>\n",
       "      <td>0.0000</td>\n",
       "    </tr>\n",
       "    <tr>\n",
       "      <th>Solar</th>\n",
       "      <td>46471</td>\n",
       "      <td>1.00</td>\n",
       "      <td>0.0</td>\n",
       "      <td>1.0</td>\n",
       "      <td>0.0000</td>\n",
       "    </tr>\n",
       "  </tbody>\n",
       "</table>\n",
       "</div>"
      ],
      "text/plain": [
       "             Cap ETA_EL         Fuel_P c_var_other     EMF\n",
       "tech                                                      \n",
       "*Units        MW      -  Euro/MWhtherm  Euro/Mwhel       t\n",
       "CCGT       29555   0.54           12.8         1.5  0.2048\n",
       "GT_GasOil   4400   0.28           12.8         1.5  0.2048\n",
       "Hydro       5256   1.00            0.0         1.5  0.0000\n",
       "Coal       22458   0.42            7.4         2.6  0.3420\n",
       "Lignite    21067   0.37            3.4         3.0  0.3996\n",
       "Nuclear     8114   0.33            1.8         0.7  0.0000\n",
       "Wind       61114   1.00            0.0         1.4  0.0000\n",
       "Solar      46471   1.00            0.0         1.0  0.0000"
      ]
     },
     "execution_count": 4,
     "metadata": {},
     "output_type": "execute_result"
    }
   ],
   "source": [
    "tech_data = pd.read_csv(\"tech_data.tsv\", sep=\"\\s+\", header=0, index_col=False ) #workaround bc read csv shifts columnnames\n",
    "tech_data.set_index(\"tech\", inplace=True)\n",
    "tech_data"
   ]
  },
  {
   "cell_type": "code",
   "execution_count": 5,
   "metadata": {},
   "outputs": [
    {
     "data": {
      "text/html": [
       "<div>\n",
       "<style scoped>\n",
       "    .dataframe tbody tr th:only-of-type {\n",
       "        vertical-align: middle;\n",
       "    }\n",
       "\n",
       "    .dataframe tbody tr th {\n",
       "        vertical-align: top;\n",
       "    }\n",
       "\n",
       "    .dataframe thead th {\n",
       "        text-align: right;\n",
       "    }\n",
       "</style>\n",
       "<table border=\"1\" class=\"dataframe\">\n",
       "  <thead>\n",
       "    <tr style=\"text-align: right;\">\n",
       "      <th></th>\n",
       "      <th>t1</th>\n",
       "      <th>t2</th>\n",
       "      <th>t3</th>\n",
       "      <th>t4</th>\n",
       "      <th>t5</th>\n",
       "      <th>t6</th>\n",
       "      <th>t7</th>\n",
       "      <th>t8</th>\n",
       "      <th>t9</th>\n",
       "      <th>t10</th>\n",
       "    </tr>\n",
       "  </thead>\n",
       "  <tbody>\n",
       "    <tr>\n",
       "      <th>CCGT</th>\n",
       "      <td>19629</td>\n",
       "      <td>19629</td>\n",
       "      <td>19629</td>\n",
       "      <td>19629</td>\n",
       "      <td>19629</td>\n",
       "      <td>19629</td>\n",
       "      <td>19629</td>\n",
       "      <td>19629</td>\n",
       "      <td>19629</td>\n",
       "      <td>19629</td>\n",
       "    </tr>\n",
       "    <tr>\n",
       "      <th>GT_GasOil</th>\n",
       "      <td>2980</td>\n",
       "      <td>2980</td>\n",
       "      <td>2980</td>\n",
       "      <td>2980</td>\n",
       "      <td>2980</td>\n",
       "      <td>2980</td>\n",
       "      <td>2980</td>\n",
       "      <td>2980</td>\n",
       "      <td>2980</td>\n",
       "      <td>2980</td>\n",
       "    </tr>\n",
       "    <tr>\n",
       "      <th>Hydro</th>\n",
       "      <td>4012</td>\n",
       "      <td>4012</td>\n",
       "      <td>4012</td>\n",
       "      <td>4012</td>\n",
       "      <td>4012</td>\n",
       "      <td>4012</td>\n",
       "      <td>4012</td>\n",
       "      <td>4012</td>\n",
       "      <td>4012</td>\n",
       "      <td>4012</td>\n",
       "    </tr>\n",
       "    <tr>\n",
       "      <th>Coal</th>\n",
       "      <td>19564</td>\n",
       "      <td>19564</td>\n",
       "      <td>19564</td>\n",
       "      <td>19564</td>\n",
       "      <td>19564</td>\n",
       "      <td>19564</td>\n",
       "      <td>19564</td>\n",
       "      <td>19564</td>\n",
       "      <td>19564</td>\n",
       "      <td>19564</td>\n",
       "    </tr>\n",
       "    <tr>\n",
       "      <th>Lignite</th>\n",
       "      <td>17687</td>\n",
       "      <td>17687</td>\n",
       "      <td>17687</td>\n",
       "      <td>17687</td>\n",
       "      <td>17687</td>\n",
       "      <td>17687</td>\n",
       "      <td>17687</td>\n",
       "      <td>17687</td>\n",
       "      <td>17687</td>\n",
       "      <td>17687</td>\n",
       "    </tr>\n",
       "    <tr>\n",
       "      <th>Nuclear</th>\n",
       "      <td>7610</td>\n",
       "      <td>7610</td>\n",
       "      <td>7610</td>\n",
       "      <td>7610</td>\n",
       "      <td>7610</td>\n",
       "      <td>7610</td>\n",
       "      <td>7610</td>\n",
       "      <td>7610</td>\n",
       "      <td>7610</td>\n",
       "      <td>7610</td>\n",
       "    </tr>\n",
       "    <tr>\n",
       "      <th>Wind</th>\n",
       "      <td>11480</td>\n",
       "      <td>9858</td>\n",
       "      <td>11332</td>\n",
       "      <td>14498</td>\n",
       "      <td>20590</td>\n",
       "      <td>21012</td>\n",
       "      <td>6314</td>\n",
       "      <td>16072</td>\n",
       "      <td>21238</td>\n",
       "      <td>12054</td>\n",
       "    </tr>\n",
       "    <tr>\n",
       "      <th>Solar</th>\n",
       "      <td>10538</td>\n",
       "      <td>2078</td>\n",
       "      <td>3920</td>\n",
       "      <td>7641</td>\n",
       "      <td>6970</td>\n",
       "      <td>0</td>\n",
       "      <td>14810</td>\n",
       "      <td>1307</td>\n",
       "      <td>0</td>\n",
       "      <td>0</td>\n",
       "    </tr>\n",
       "  </tbody>\n",
       "</table>\n",
       "</div>"
      ],
      "text/plain": [
       "              t1     t2     t3     t4     t5     t6     t7     t8     t9  \\\n",
       "CCGT       19629  19629  19629  19629  19629  19629  19629  19629  19629   \n",
       "GT_GasOil   2980   2980   2980   2980   2980   2980   2980   2980   2980   \n",
       "Hydro       4012   4012   4012   4012   4012   4012   4012   4012   4012   \n",
       "Coal       19564  19564  19564  19564  19564  19564  19564  19564  19564   \n",
       "Lignite    17687  17687  17687  17687  17687  17687  17687  17687  17687   \n",
       "Nuclear     7610   7610   7610   7610   7610   7610   7610   7610   7610   \n",
       "Wind       11480   9858  11332  14498  20590  21012   6314  16072  21238   \n",
       "Solar      10538   2078   3920   7641   6970      0  14810   1307      0   \n",
       "\n",
       "             t10  \n",
       "CCGT       19629  \n",
       "GT_GasOil   2980  \n",
       "Hydro       4012  \n",
       "Coal       19564  \n",
       "Lignite    17687  \n",
       "Nuclear     7610  \n",
       "Wind       12054  \n",
       "Solar          0  "
      ]
     },
     "execution_count": 5,
     "metadata": {},
     "output_type": "execute_result"
    }
   ],
   "source": [
    "availability = pd.read_csv(\"availability.tsv\", sep=\"\\s+\")\n",
    "availability"
   ]
  },
  {
   "cell_type": "code",
   "execution_count": 6,
   "metadata": {},
   "outputs": [
    {
     "data": {
      "text/html": [
       "<div>\n",
       "<style scoped>\n",
       "    .dataframe tbody tr th:only-of-type {\n",
       "        vertical-align: middle;\n",
       "    }\n",
       "\n",
       "    .dataframe tbody tr th {\n",
       "        vertical-align: top;\n",
       "    }\n",
       "\n",
       "    .dataframe thead th {\n",
       "        text-align: right;\n",
       "    }\n",
       "</style>\n",
       "<table border=\"1\" class=\"dataframe\">\n",
       "  <thead>\n",
       "    <tr style=\"text-align: right;\">\n",
       "      <th></th>\n",
       "      <th>time</th>\n",
       "      <th>value</th>\n",
       "    </tr>\n",
       "  </thead>\n",
       "  <tbody>\n",
       "    <tr>\n",
       "      <th>0</th>\n",
       "      <td>t1</td>\n",
       "      <td>102</td>\n",
       "    </tr>\n",
       "    <tr>\n",
       "      <th>1</th>\n",
       "      <td>t2</td>\n",
       "      <td>962</td>\n",
       "    </tr>\n",
       "    <tr>\n",
       "      <th>2</th>\n",
       "      <td>t3</td>\n",
       "      <td>962</td>\n",
       "    </tr>\n",
       "    <tr>\n",
       "      <th>3</th>\n",
       "      <td>t4</td>\n",
       "      <td>962</td>\n",
       "    </tr>\n",
       "    <tr>\n",
       "      <th>4</th>\n",
       "      <td>t5</td>\n",
       "      <td>962</td>\n",
       "    </tr>\n",
       "    <tr>\n",
       "      <th>5</th>\n",
       "      <td>t6</td>\n",
       "      <td>962</td>\n",
       "    </tr>\n",
       "    <tr>\n",
       "      <th>6</th>\n",
       "      <td>t7</td>\n",
       "      <td>962</td>\n",
       "    </tr>\n",
       "    <tr>\n",
       "      <th>7</th>\n",
       "      <td>t8</td>\n",
       "      <td>962</td>\n",
       "    </tr>\n",
       "    <tr>\n",
       "      <th>8</th>\n",
       "      <td>t9</td>\n",
       "      <td>962</td>\n",
       "    </tr>\n",
       "    <tr>\n",
       "      <th>9</th>\n",
       "      <td>t10</td>\n",
       "      <td>962</td>\n",
       "    </tr>\n",
       "  </tbody>\n",
       "</table>\n",
       "</div>"
      ],
      "text/plain": [
       "  time  value\n",
       "0   t1    102\n",
       "1   t2    962\n",
       "2   t3    962\n",
       "3   t4    962\n",
       "4   t5    962\n",
       "5   t6    962\n",
       "6   t7    962\n",
       "7   t8    962\n",
       "8   t9    962\n",
       "9  t10    962"
      ]
     },
     "execution_count": 6,
     "metadata": {},
     "output_type": "execute_result"
    }
   ],
   "source": [
    "duration = pd.read_csv(\"duration.tsv\", sep=\"\\s+\", names=[\"time\", \"value\"])\n",
    "duration"
   ]
  },
  {
   "cell_type": "markdown",
   "metadata": {},
   "source": [
    "# 2. set up calculations\n",
    "if thats necessary."
   ]
  },
  {
   "cell_type": "code",
   "execution_count": 39,
   "metadata": {},
   "outputs": [
    {
     "data": {
      "text/html": [
       "<div>\n",
       "<style scoped>\n",
       "    .dataframe tbody tr th:only-of-type {\n",
       "        vertical-align: middle;\n",
       "    }\n",
       "\n",
       "    .dataframe tbody tr th {\n",
       "        vertical-align: top;\n",
       "    }\n",
       "\n",
       "    .dataframe thead th {\n",
       "        text-align: right;\n",
       "    }\n",
       "</style>\n",
       "<table border=\"1\" class=\"dataframe\">\n",
       "  <thead>\n",
       "    <tr style=\"text-align: right;\">\n",
       "      <th></th>\n",
       "      <th>costs</th>\n",
       "      <th>capacities</th>\n",
       "      <th>efficiencies</th>\n",
       "      <th>emissions</th>\n",
       "    </tr>\n",
       "  </thead>\n",
       "  <tbody>\n",
       "    <tr>\n",
       "      <th>gas</th>\n",
       "      <td>20</td>\n",
       "      <td>350</td>\n",
       "      <td>0.6</td>\n",
       "      <td>0.2</td>\n",
       "    </tr>\n",
       "    <tr>\n",
       "      <th>coal</th>\n",
       "      <td>8</td>\n",
       "      <td>300</td>\n",
       "      <td>0.4</td>\n",
       "      <td>0.3</td>\n",
       "    </tr>\n",
       "  </tbody>\n",
       "</table>\n",
       "</div>"
      ],
      "text/plain": [
       "      costs  capacities  efficiencies  emissions\n",
       "gas      20         350           0.6        0.2\n",
       "coal      8         300           0.4        0.3"
      ]
     },
     "execution_count": 39,
     "metadata": {},
     "output_type": "execute_result"
    }
   ],
   "source": [
    "gens = [\"gas\",\"coal\"]\n",
    "\n",
    "data = pd.DataFrame(index=gens)\n",
    "\n",
    "data[\"costs\"] = [20,8]\n",
    "data[\"capacities\"] = [350,300]\n",
    "data[\"efficiencies\"] = [0.6,0.4]\n",
    "data[\"emissions\"] = [0.2,0.3]\n",
    "\n",
    "data"
   ]
  },
  {
   "cell_type": "code",
   "execution_count": 12,
   "metadata": {},
   "outputs": [
    {
     "data": {
      "text/plain": [
       "gas     33.333333\n",
       "coal    20.000000\n",
       "Name: costs_el, dtype: float64"
      ]
     },
     "execution_count": 12,
     "metadata": {},
     "output_type": "execute_result"
    }
   ],
   "source": [
    "data[\"costs_el\"] = data.costs/data.efficiencies\n",
    "data.costs_el"
   ]
  },
  {
   "cell_type": "code",
   "execution_count": 13,
   "metadata": {},
   "outputs": [
    {
     "data": {
      "text/plain": [
       "gas     0.333333\n",
       "coal    0.750000\n",
       "Name: emissions_el, dtype: float64"
      ]
     },
     "execution_count": 13,
     "metadata": {},
     "output_type": "execute_result"
    }
   ],
   "source": [
    "data[\"emissions_el\"] = data.emissions/data.efficiencies\n",
    "data.emissions_el"
   ]
  },
  {
   "cell_type": "code",
   "execution_count": 23,
   "metadata": {},
   "outputs": [],
   "source": [
    "demand = 500\n",
    "co2_limit = 250\n",
    "#co2_limit = 300"
   ]
  },
  {
   "cell_type": "markdown",
   "metadata": {},
   "source": [
    "# configuration of model"
   ]
  },
  {
   "cell_type": "code",
   "execution_count": 24,
   "metadata": {},
   "outputs": [],
   "source": [
    "model = ConcreteModel()\n",
    "\n",
    "model.x = Var(gens, domain=NonNegativeReals)\n",
    "\n",
    "model.balance = Constraint(expr = model.x[\"gas\"] + model.x[\"coal\"] == demand)\n",
    "\n",
    "def cap_limits(model,gen):\n",
    "    return model.x[gen] <= data.capacities[gen]\n",
    "\n",
    "model.cap_limits = Constraint(gens,rule=cap_limits)\n",
    "\n",
    "model.emissions = Constraint(expr = sum([data.emissions_el[gen]*model.x[gen] for gen in gens]) <= co2_limit)\n",
    "\n",
    "model.objective = Objective(expr = sum([data.costs_el[gen]*model.x[gen] for gen in gens]))"
   ]
  },
  {
   "cell_type": "code",
   "execution_count": 25,
   "metadata": {},
   "outputs": [],
   "source": [
    "opt = SolverFactory(\"glpk\")"
   ]
  },
  {
   "cell_type": "code",
   "execution_count": 26,
   "metadata": {},
   "outputs": [],
   "source": [
    "model.dual = Suffix(direction=Suffix.IMPORT_EXPORT)"
   ]
  },
  {
   "cell_type": "code",
   "execution_count": 27,
   "metadata": {},
   "outputs": [],
   "source": [
    "results = opt.solve(model,suffixes=[\"dual\"])"
   ]
  },
  {
   "cell_type": "code",
   "execution_count": 28,
   "metadata": {},
   "outputs": [
    {
     "name": "stdout",
     "output_type": "stream",
     "text": [
      "# ==========================================================\n",
      "# = Solver Results                                         =\n",
      "# ==========================================================\n",
      "# ----------------------------------------------------------\n",
      "#   Problem Information\n",
      "# ----------------------------------------------------------\n",
      "Problem: \n",
      "- Name: unknown\n",
      "  Lower bound: 14000.0\n",
      "  Upper bound: 14000.0\n",
      "  Number of objectives: 1\n",
      "  Number of constraints: 5\n",
      "  Number of variables: 3\n",
      "  Number of nonzeros: 7\n",
      "  Sense: minimize\n",
      "# ----------------------------------------------------------\n",
      "#   Solver Information\n",
      "# ----------------------------------------------------------\n",
      "Solver: \n",
      "- Status: ok\n",
      "  Termination condition: optimal\n",
      "  Statistics: \n",
      "    Branch and bound: \n",
      "      Number of bounded subproblems: 0\n",
      "      Number of created subproblems: 0\n",
      "  Error rc: 0\n",
      "  Time: 0.010906696319580078\n",
      "# ----------------------------------------------------------\n",
      "#   Solution Information\n",
      "# ----------------------------------------------------------\n",
      "Solution: \n",
      "- number of solutions: 0\n",
      "  number of solutions displayed: 0\n"
     ]
    }
   ],
   "source": [
    "results.write()"
   ]
  },
  {
   "cell_type": "code",
   "execution_count": 29,
   "metadata": {},
   "outputs": [
    {
     "name": "stdout",
     "output_type": "stream",
     "text": [
      "gas 300.0\n",
      "coal 200.0\n"
     ]
    }
   ],
   "source": [
    "for gen in gens:\n",
    "    print(gen,model.x[gen].value)"
   ]
  },
  {
   "cell_type": "code",
   "execution_count": 30,
   "metadata": {},
   "outputs": [
    {
     "data": {
      "text/plain": [
       "44.0"
      ]
     },
     "execution_count": 30,
     "metadata": {},
     "output_type": "execute_result"
    }
   ],
   "source": [
    "model.dual[model.balance]"
   ]
  },
  {
   "cell_type": "code",
   "execution_count": 31,
   "metadata": {},
   "outputs": [
    {
     "data": {
      "text/plain": [
       "-32.0"
      ]
     },
     "execution_count": 31,
     "metadata": {},
     "output_type": "execute_result"
    }
   ],
   "source": [
    "model.dual[model.emissions]"
   ]
  },
  {
   "cell_type": "code",
   "execution_count": null,
   "metadata": {},
   "outputs": [],
   "source": []
  }
 ],
 "metadata": {
  "kernelspec": {
   "display_name": "Python 3",
   "language": "python",
   "name": "python3"
  },
  "language_info": {
   "codemirror_mode": {
    "name": "ipython",
    "version": 3
   },
   "file_extension": ".py",
   "mimetype": "text/x-python",
   "name": "python",
   "nbconvert_exporter": "python",
   "pygments_lexer": "ipython3",
   "version": "3.8.5"
  }
 },
 "nbformat": 4,
 "nbformat_minor": 4
}
